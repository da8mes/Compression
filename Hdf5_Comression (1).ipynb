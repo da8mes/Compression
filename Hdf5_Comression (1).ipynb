{
 "cells": [
  {
   "cell_type": "code",
   "execution_count": 1,
   "metadata": {},
   "outputs": [
    {
     "name": "stderr",
     "output_type": "stream",
     "text": [
      "/usr/local/lib/python3.5/dist-packages/h5py/__init__.py:34: FutureWarning: Conversion of the second argument of issubdtype from `float` to `np.floating` is deprecated. In future, it will be treated as `np.float64 == np.dtype(float).type`.\n",
      "  from ._conv import register_converters as _register_converters\n"
     ]
    },
    {
     "name": "stdout",
     "output_type": "stream",
     "text": [
      "hello\n"
     ]
    }
   ],
   "source": [
    "##########A few I/O tests with compressed and uncompressed datasets#################\n",
    "import numpy as np\n",
    "import os \n",
    "import sys\n",
    "import h5py\n",
    "import timeit\n",
    "sys.path.append(os.path.realpath(\"/nfshome/dawit/compression_test/Triforce_CaloML/Loader\"))\n",
    "import loader\n",
    "import glob\n",
    "\n",
    "def file_size(file_path):\n",
    "    size = os.stat(file_path).st_size\n",
    "    return size/1000000.0\n",
    "\n",
    "def timer(test_code, setup, iter_num):\n",
    "    total_access_time = timeit.Timer(stmt=test_code, \n",
    "                                  setup=setup).timeit(number=iter_num)\n",
    "    return (total_access_time/iter_num)\n",
    "\n",
    "def access(file, keys):\n",
    "    for key in file.keys():\n",
    "        points = np.array(file[key]) # access entries and create a numpy array but this is biased by numpy\n",
    "#         print(file[key])\n",
    "        keys.append(file[key].name.replace('/','')) #store keys for later use. \n",
    "    return keys\n",
    "\n",
    "\n",
    "print(\"hello\")"
   ]
  },
  {
   "cell_type": "code",
   "execution_count": 2,
   "metadata": {},
   "outputs": [
    {
     "name": "stdout",
     "output_type": "stream",
     "text": [
      "Current comp_level: 1 ,Current size: 213.607716 ,Current access time: 26.653316\n",
      "Current comp_level: 2 ,Current size: 211.703661 ,Current access time: 27.389900\n",
      "Current comp_level: 3 ,Current size: 209.370117 ,Current access time: 28.373773\n",
      "Current comp_level: 4 ,Current size: 183.192873 ,Current access time: 34.762392\n",
      "Current comp_level: 5 ,Current size: 182.631517 ,Current access time: 35.646303\n",
      "Current comp_level: 6 ,Current size: 181.715798 ,Current access time: 35.842045\n",
      "Current comp_level: 7 ,Current size: 181.447387 ,Current access time: 34.472917\n",
      "Current comp_level: 8 ,Current size: 180.255338 ,Current access time: 35.063898\n",
      "Current comp_level: 9 ,Current size: 180.100055 ,Current access time: 38.254240\n",
      "[(0, 307.248228), (1, 213.607716), (2, 211.703661), (3, 209.370117), (4, 183.192873), (5, 182.631517), (6, 181.715798), (7, 181.447387), (8, 180.255338), (9, 180.100055)]\n",
      "[(0, 36.15179771184921), (1, 26.653315958101302), (2, 27.389899514149874), (3, 28.373773192986846), (4, 34.762391834985465), (5, 35.64630327327177), (6, 35.84204543288797), (7, 34.47291716514155), (8, 35.06389768188819), (9, 38.25423958711326)]\n"
     ]
    }
   ],
   "source": [
    "iter_num = 1\n",
    "dataset_path = \"/data/shared/LCDLargeWindow/\"\n",
    "comp_path = os.path.join(dataset_path,\n",
    "                        'fixedangle/ChPiEscan/test1_comp_original.h5')\n",
    "\n",
    "comp_file = h5py.File(comp_path, 'r')\n",
    "comp_file_keys = []\n",
    "\n",
    "setup = \"from __main__ import access, comp_file, comp_file_keys\"\n",
    "test_code = \"access(comp_file, comp_file_keys)\"\n",
    "\n",
    "size = [(0, file_size(comp_file.filename))]\n",
    "time = [(0, timer(test_code, setup, iter_num))]\n",
    "\n",
    "comp_file.close()\n",
    "\n",
    "tmp_path = \"/data/shared/LCDLargeWindow/fixedangle/EleEscan/test1_comp_x.h5\"\n",
    "\n",
    "#check size and time for different compression levels and store result as tupels in size and time \n",
    "for comp_level in range(1,10):\n",
    "    # repack data with giving comp_level\n",
    "    cmd = \"h5repack -v -f GZIP=%d /data/shared/LCDLargeWindow/fixedangle/EleEscan/test1_comp_original.h5 /data/shared/LCDLargeWindow/fixedangle/EleEscan/test1_comp_x.h5\"%comp_level\n",
    "    os.system(cmd) \n",
    "    comp_file = h5py.File(tmp_path, 'r') # open new file stored at tmp_path\n",
    "    comp_file_keys = []\n",
    "    sz = (comp_level, file_size(tmp_path))\n",
    "    tm = (comp_level, timer(test_code, setup, iter_num))\n",
    "    print(\"Current comp_level: %d ,Current size: %f ,Current access time: %f\" %(comp_level, sz[1], tm[1]))\n",
    "    size.append(sz)\n",
    "    time.append(tm)\n",
    "    comp_file.close() # close current test.x h5 file\n",
    "    \n",
    "print(size)\n",
    "print(time)\n",
    "\n",
    "# compression rate is not the problem. chunk_cache_size probably is. \n"
   ]
  },
  {
   "cell_type": "code",
   "execution_count": 16,
   "metadata": {},
   "outputs": [
    {
     "data": {
      "image/png": "[encoded data removed]",
      "text/plain": [
       "<matplotlib.figure.Figure at 0x7f9c84d72588>"
      ]
     },
     "metadata": {},
     "output_type": "display_data"
    }
   ],
   "source": [
    "import matplotlib.pyplot as plt\n",
    "comp_rate = [x[0] for x in size]\n",
    "sizes = [x[1] for x in size]\n",
    "times = [x[1] for x in time]\n",
    "\n",
    "plt.plot(comp_rate,sizes, label=\"Size (MB)\")\n",
    "plt.plot(comp_rate,times, label=\"Access_Time (sec)\")\n",
    "plt.xlabel('Compression_Rate', size=16)\n",
    "plt.ylabel('Size / Access_Time', size=16)\n",
    "plt.legend()\n",
    "plt.show()"
   ]
  },
  {
   "cell_type": "code",
   "execution_count": null,
   "metadata": {},
   "outputs": [],
   "source": []
  }
 ],
 "metadata": {
  "kernelspec": {
   "display_name": "Python 3",
   "language": "python",
   "name": "python3"
  },
  "language_info": {
   "codemirror_mode": {
    "name": "ipython",
    "version": 3
   },
   "file_extension": ".py",
   "mimetype": "text/x-python",
   "name": "python",
   "nbconvert_exporter": "python",
   "pygments_lexer": "ipython3",
   "version": "3.5.2"
  }
 },
 "nbformat": 4,
 "nbformat_minor": 2
}
