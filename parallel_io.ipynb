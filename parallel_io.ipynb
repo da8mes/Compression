{
 "cells": [
  {
   "cell_type": "code",
   "execution_count": 18,
   "metadata": {},
   "outputs": [],
   "source": [
    "# parallel I/O \n",
    "##############\n",
    "\n",
    "import numpy as np\n",
    "import h5py\n",
    "import glob\n",
    "import os\n",
    "import sys\n",
    "import timeit\n",
    "import concurrent.futures\n",
    "\n",
    "data_files = glob.glob(\"/data/shared/LCDLargeWindow/fixedangle/ChPiEscan/temp/*.h5\")[:10]\n",
    "features = ['ECAL', 'HCAL', 'pdgID', 'ECAL_E', 'HCAL_E', 'HCAL_ECAL_ERatio', 'energy']\n",
    "data_dict = {}\n",
    "\n",
    "def timer(test_code, setup, iter_num):\n",
    "    total_access_time = timeit.Timer(stmt=test_code, \n",
    "                                  setup=setup).timeit(number=iter_num)\n",
    "    return (total_access_time/iter_num)\n",
    "\n",
    "def access(file):\n",
    "    for feat in features: \n",
    "        with h5py.File(file, 'r') as f:\n",
    "            data_dict[f.filename + feat] = np.array(f[feat])"
   ]
  },
  {
   "cell_type": "code",
   "execution_count": 19,
   "metadata": {},
   "outputs": [],
   "source": [
    "def pIO():\n",
    "    with concurrent.futures.ProcessPoolExecutor() as executor:\n",
    "        for _ in executor.map(access, data_files):\n",
    "            print(\"P - Job Done\")\n",
    "            \n",
    "def IO():\n",
    "    for file in data_files:\n",
    "        access(file)\n",
    "        print(\"R - Job Done\")"
   ]
  },
  {
   "cell_type": "code",
   "execution_count": 20,
   "metadata": {},
   "outputs": [
    {
     "name": "stdout",
     "output_type": "stream",
     "text": [
      "P - Job Done\n",
      "P - Job Done\n",
      "P - Job Done\n",
      "P - Job Done\n",
      "P - Job Done\n",
      "P - Job Done\n",
      "P - Job Done\n",
      "P - Job Done\n",
      "P - Job Done\n",
      "P - Job Done\n",
      "R - Job Done\n",
      "R - Job Done\n",
      "R - Job Done\n",
      "R - Job Done\n",
      "R - Job Done\n",
      "R - Job Done\n",
      "R - Job Done\n",
      "R - Job Done\n",
      "R - Job Done\n",
      "R - Job Done\n",
      "Parallel 55.662\n",
      "Regular 308.753\n"
     ]
    }
   ],
   "source": [
    "setup = \"from __main__ import pIO\"\n",
    "test_code = \"pIO()\"\n",
    "\n",
    "tpio = timer(test_code, setup, 1)\n",
    "\n",
    "setup = \"from __main__ import IO\"\n",
    "test_code = \"IO()\"\n",
    "\n",
    "tio = timer(test_code, setup, 1)\n",
    "\n",
    "print(\"Parallel %.3f\"%tpio)\n",
    "print(\"Regular %.3f\"%tio)"
   ]
  },
  {
   "cell_type": "code",
   "execution_count": 22,
   "metadata": {},
   "outputs": [
    {
     "name": "stdout",
     "output_type": "stream",
     "text": [
      "Percentage speed up for 10 files: 81.972 percent!!!\n"
     ]
    }
   ],
   "source": [
    "print(\"Percentage speed up for 10 files: %.3f percent!!!\"%((tio - tpio)* 100/tio))"
   ]
  },
  {
   "cell_type": "code",
   "execution_count": null,
   "metadata": {},
   "outputs": [],
   "source": []
  }
 ],
 "metadata": {
  "kernelspec": {
   "display_name": "Python 3",
   "language": "python",
   "name": "python3"
  },
  "language_info": {
   "codemirror_mode": {
    "name": "ipython",
    "version": 3
   },
   "file_extension": ".py",
   "mimetype": "text/x-python",
   "name": "python",
   "nbconvert_exporter": "python",
   "pygments_lexer": "ipython3",
   "version": "3.5.2"
  }
 },
 "nbformat": 4,
 "nbformat_minor": 2
}
