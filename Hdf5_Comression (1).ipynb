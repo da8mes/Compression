{
 "cells": [
  {
   "cell_type": "code",
   "execution_count": 1,
   "metadata": {},
   "outputs": [
    {
     "name": "stderr",
     "output_type": "stream",
     "text": [
      "/usr/local/lib/python3.5/dist-packages/h5py/__init__.py:34: FutureWarning: Conversion of the second argument of issubdtype from `float` to `np.floating` is deprecated. In future, it will be treated as `np.float64 == np.dtype(float).type`.\n",
      "  from ._conv import register_converters as _register_converters\n"
     ]
    }
   ],
   "source": [
    "##########A few I/O tests with compressed and uncompressed datasets#################\n",
    "import numpy as np\n",
    "import os \n",
    "import sys\n",
    "import h5py\n",
    "import timeit\n",
    "sys.path.append(os.path.realpath(\"/nfshome/dawit/compression_test/Triforce_CaloML/Loader\"))\n",
    "import loader\n",
    "import glob\n",
    "\n",
    "def file_size(file_path):\n",
    "    size = os.stat(file_path).st_size\n",
    "    return size/1000000.0\n",
    "\n",
    "def timer(test_code, setup, iter_num):\n",
    "    total_access_time = timeit.Timer(stmt=test_code, \n",
    "                                  setup=setup).timeit(number=iter_num)\n",
    "    return (total_access_time/iter_num)\n",
    "\n",
    "def access(file, keys):\n",
    "    for key in file.keys():\n",
    "        points = np.array(file[key]) # access entries and create a numpy array but this is biased by numpy\n",
    "#         print(file[key])\n",
    "        keys.append(file[key].name.replace('/','')) #store keys for later use. \n",
    "    return keys"
   ]
  },
  {
   "cell_type": "code",
   "execution_count": 2,
   "metadata": {},
   "outputs": [
    {
     "name": "stdout",
     "output_type": "stream",
     "text": [
      "Current comp_level: 0 ,Current size: 6369.249688 ,Current access time: 21.219923\n",
      "Current comp_level: 1 ,Current size: 213.607716 ,Current access time: 24.199667\n",
      "Current comp_level: 2 ,Current size: 211.703661 ,Current access time: 24.212114\n",
      "Current comp_level: 3 ,Current size: 209.370117 ,Current access time: 23.942506\n",
      "Current comp_level: 4 ,Current size: 183.192873 ,Current access time: 32.248674\n",
      "Current comp_level: 5 ,Current size: 182.631517 ,Current access time: 31.725729\n",
      "Current comp_level: 6 ,Current size: 181.715798 ,Current access time: 31.076163\n",
      "Current comp_level: 7 ,Current size: 181.447387 ,Current access time: 31.797432\n",
      "Current comp_level: 8 ,Current size: 180.255338 ,Current access time: 31.967314\n",
      "Current comp_level: 9 ,Current size: 180.100055 ,Current access time: 32.045436\n",
      "[(0, 6369.249688), (1, 213.607716), (2, 211.703661), (3, 209.370117), (4, 183.192873), (5, 182.631517), (6, 181.715798), (7, 181.447387), (8, 180.255338), (9, 180.100055)]\n",
      "[(0, 21.219923354219645), (1, 24.199667312204838), (2, 24.21211437182501), (3, 23.942506364081055), (4, 32.24867404298857), (5, 31.72572939703241), (6, 31.076162682380527), (7, 31.797431917861104), (8, 31.96731366077438), (9, 32.045435808133334)]\n"
     ]
    }
   ],
   "source": [
    "iter_num = 1\n",
    "dataset_path = \"/data/shared/LCDLargeWindow/\"\n",
    "comp_path = os.path.join(dataset_path,\n",
    "                        'fixedangle/ChPiEscan/test1_comp_original.h5')\n",
    "\n",
    "comp_file = h5py.File(comp_path, 'r')\n",
    "comp_file_keys = []\n",
    "\n",
    "setup = \"from __main__ import access, comp_file, comp_file_keys\"\n",
    "test_code = \"access(comp_file, comp_file_keys)\"\n",
    "\n",
    "size = []\n",
    "time = []\n",
    "\n",
    "comp_file.close()\n",
    "\n",
    "tmp_path = \"/data/shared/LCDLargeWindow/fixedangle/EleEscan/test1_comp_x.h5\"\n",
    "\n",
    "#check size and time for different compression levels and store result as tupels in size and time \n",
    "for comp_level in range(0,10):\n",
    "    # repack data with giving comp_level\n",
    "    cmd = \"h5repack -v -f GZIP=%d /data/shared/LCDLargeWindow/fixedangle/EleEscan/test1_nocomp.h5 /data/shared/LCDLargeWindow/fixedangle/EleEscan/test1_comp_x.h5\"%comp_level\n",
    "    os.system(cmd) \n",
    "    comp_file = h5py.File(tmp_path, 'r') # open new file stored at tmp_path\n",
    "    comp_file_keys = []\n",
    "    sz = (comp_level, file_size(tmp_path))\n",
    "    tm = (comp_level, timer(test_code, setup, iter_num))\n",
    "    print(\"Current comp_level: %d ,Current size: %f ,Current access time: %f\" %(comp_level, sz[1], tm[1]))\n",
    "    size.append(sz)\n",
    "    time.append(tm)\n",
    "    comp_file.close() # close curent test.x h5 file \n",
    "    os.system(\"rm /data/shared/LCDLargeWindow/fixedangle/EleEscan/test1_comp_x.h5\")  # delete test.x h5 file. \n",
    "    \n",
    "print(size)\n",
    "print(time)\n",
    "\n",
    "# compression rate is not the problem. chunk_cache_size probably is. \n"
   ]
  },
  {
   "cell_type": "code",
   "execution_count": 3,
   "metadata": {},
   "outputs": [],
   "source": [
    "# test run for compression level-0 and uncompressed files \n",
    "# remove wrong entry \n",
    "# for point in size:\n",
    "#     if point[0] == 0:\n",
    "#         size.pop(point)\n",
    "#         break\n",
    "# for point in time:\n",
    "# os.system(\"pwd\")\n",
    "# os.system(\"ls -lrth\")\n",
    "# os.system(\"h5dump -H -p /data/shared/LCDLargeWindow/fixedangle/EleEscan/test1_comp_original.h5\")"
   ]
  },
  {
   "cell_type": "code",
   "execution_count": 9,
   "metadata": {},
   "outputs": [
    {
     "data": {
      "image/png": "[encoded data removed]",
      "text/plain": [
       "<matplotlib.figure.Figure at 0x7f2555a8e7f0>"
      ]
     },
     "metadata": {},
     "output_type": "display_data"
    },
    {
     "data": {
      "image/png": "[encoded data removed]",
      "text/plain": [
       "<matplotlib.figure.Figure at 0x7f2555c21a90>"
      ]
     },
     "metadata": {},
     "output_type": "display_data"
    }
   ],
   "source": [
    "import matplotlib.pyplot as plt\n",
    "comp_rate = [x[0] for x in size]\n",
    "sizes = [x[1] for x in size]\n",
    "times = [x[1] for x in time]\n",
    "\n",
    "fig1 = plt.figure()\n",
    "plt.plot(comp_rate,sizes, label=\"Size (MB)\")\n",
    "plt.ylabel('Size (MB)', size = 16)\n",
    "fig2 = plt.figure()\n",
    "plt.plot(comp_rate,times, label=\"Access_Time (sec)\")\n",
    "plt.xlabel('Compression_Rate', size=16)\n",
    "plt.ylabel('Access_Time (Sec)', size=16)\n",
    "plt.show()"
   ]
  },
  {
   "cell_type": "code",
   "execution_count": null,
   "metadata": {},
   "outputs": [],
   "source": []
  }
 ],
 "metadata": {
  "kernelspec": {
   "display_name": "Python 3",
   "language": "python",
   "name": "python3"
  },
  "language_info": {
   "codemirror_mode": {
    "name": "ipython",
    "version": 3
   },
   "file_extension": ".py",
   "mimetype": "text/x-python",
   "name": "python",
   "nbconvert_exporter": "python",
   "pygments_lexer": "ipython3",
   "version": "3.5.2"
  }
 },
 "nbformat": 4,
 "nbformat_minor": 2
}
