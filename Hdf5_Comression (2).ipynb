{
 "cells": [
  {
   "cell_type": "code",
   "execution_count": 2,
   "metadata": {},
   "outputs": [
    {
     "name": "stderr",
     "output_type": "stream",
     "text": [
      "/usr/local/lib/python3.5/dist-packages/h5py/__init__.py:34: FutureWarning: Conversion of the second argument of issubdtype from `float` to `np.floating` is deprecated. In future, it will be treated as `np.float64 == np.dtype(float).type`.\n",
      "  from ._conv import register_converters as _register_converters\n"
     ]
    }
   ],
   "source": [
    "##########A few I/O tests with compressed and uncompressed datasets#################\n",
    "##### test - 2 ######\n",
    "import numpy as np\n",
    "import os \n",
    "import sys\n",
    "import h5py\n",
    "import timeit\n",
    "# sys.path.append(os.path.realpath(\"/nfshome/dawit/compression_test/Triforce_CaloML/Loader\"))\n",
    "# import loader\n",
    "import glob\n",
    "\n",
    "def file_size(file_path):\n",
    "    size = os.stat(file_path).st_size\n",
    "    return size/1000000.0\n",
    "\n",
    "def timer(test_code, setup, iter_num):\n",
    "    total_access_time = timeit.Timer(stmt=test_code, \n",
    "                                  setup=setup).timeit(number=iter_num)\n",
    "    return (total_access_time/iter_num)\n",
    "\n",
    "def access_epf(files, data_dict, events_per_file):\n",
    "    features = ['ECAL', 'HCAL', 'pdgID', 'ECAL_E', 'HCAL_E', 'HCAL_ECAL_ERatio', 'energy', 'eta', 'recoEta', 'phi', 'recoPhi', 'openingAngle']\n",
    "    for feat in features:\n",
    "        for file in files:\n",
    "            if feat in file.keys():\n",
    "                data_dict[file.filename+'-'+feat] = np.array(file[feat][:events_per_file])"
   ]
  },
  {
   "cell_type": "code",
   "execution_count": 1,
   "metadata": {},
   "outputs": [],
   "source": [
    "# prepare variables for test\n",
    "data_dict = {}\n",
    "files = []\n",
    "time = [] # list of tupels (comp_level, epf, access_time)\n",
    "iter_num = 1\n",
    "epf = 0\n",
    "dataset_path = \"/data/shared/LCDLargeWindow/fixedangle/ChPiEscan/\""
   ]
  },
  {
   "cell_type": "code",
   "execution_count": 4,
   "metadata": {},
   "outputs": [
    {
     "name": "stdout",
     "output_type": "stream",
     "text": [
      "finished compressing files.\n"
     ]
    }
   ],
   "source": [
    "# recompress everything ones to ../test2 dir\n",
    "def compress():\n",
    "    for comp_level in [0,3,4]:\n",
    "        for i in range(1,5):\n",
    "            decomp_path = os.path.join(dataset_path,\n",
    "                                'test2/test2_decomp_%d.h5'%i)\n",
    "\n",
    "            out_path = os.path.join(dataset_path,\n",
    "                                'test2/test2_recomp_%d_%d.h5'%(comp_level, i))\n",
    "            # recompress file to given compression level\n",
    "            cmd = \"h5repack -v -f GZIP=%d %s %s\"%(comp_level, decomp_path, out_path)\n",
    "            os.system(cmd)\n",
    "    print(\"finished compressing files.\")\n",
    "\n",
    "compress()"
   ]
  },
  {
   "cell_type": "code",
   "execution_count": 15,
   "metadata": {},
   "outputs": [],
   "source": [
    "# add a comp_level = 1 compression file \n",
    "for i in range(1,5):\n",
    "    decomp_path = os.path.join(dataset_path,\n",
    "                                'test2/test2_decomp_%d.h5'%i)\n",
    "    out_path = os.path.join(dataset_path,\n",
    "                        'test2/test2_recomp_1_%d.h5'%i)\n",
    "    # recompress file to given compression level\n",
    "    cmd = \"h5repack -v -f GZIP=1 %s %s\"%(decomp_path, out_path)\n",
    "    os.system(cmd)"
   ]
  },
  {
   "cell_type": "code",
   "execution_count": null,
   "metadata": {},
   "outputs": [],
   "source": []
  },
  {
   "cell_type": "code",
   "execution_count": 3,
   "metadata": {
    "scrolled": false
   },
   "outputs": [
    {
     "name": "stdout",
     "output_type": "stream",
     "text": [
      "comp_level:0 , epf:1000 , time:0.008\n",
      "comp_level:0 , epf:2000 , time:0.008\n",
      "comp_level:0 , epf:5000 , time:0.007\n",
      "comp_level:0 , epf:10000 , time:0.007\n",
      "comp_level:1 , epf:1000 , time:0.011\n",
      "comp_level:1 , epf:2000 , time:0.011\n",
      "comp_level:1 , epf:5000 , time:0.010\n",
      "comp_level:1 , epf:10000 , time:0.010\n",
      "comp_level:3 , epf:1000 , time:0.011\n",
      "comp_level:3 , epf:2000 , time:0.011\n",
      "comp_level:3 , epf:5000 , time:0.010\n",
      "comp_level:3 , epf:10000 , time:0.010\n",
      "comp_level:4 , epf:1000 , time:0.015\n",
      "comp_level:4 , epf:2000 , time:0.015\n",
      "comp_level:4 , epf:5000 , time:0.013\n",
      "comp_level:4 , epf:10000 , time:0.013\n"
     ]
    }
   ],
   "source": [
    "# run tests\n",
    "data_dict = {}\n",
    "files = []\n",
    "time = [] # list of tupels (comp_level, epf, access_time)\n",
    "iter_num = 1\n",
    "epf = 0\n",
    "for comp_level in [0,1,3,4]:\n",
    "    for i in range(1,5):\n",
    "        out_path = os.path.join(dataset_path,\n",
    "                        'test2/test2_recomp_%d_%d.h5'%(comp_level,i))\n",
    "        comp_file = h5py.File(out_path, 'r')\n",
    "        files.append(comp_file)\n",
    "    # open current comp_level files\n",
    "    for events in [1000, 2000, 5000, 10000]:\n",
    "        epf = events\n",
    "        \n",
    "        setup = \"from __main__ import files, data_dict, epf, access_epf\"\n",
    "        test_code = \"access_epf(files, data_dict, epf)\"\n",
    "            \n",
    "        # run test and record data \n",
    "        tm = (comp_level, epf, timer(test_code, setup, iter_num)/epf) # normalize total access time. \n",
    "        # print stat. \n",
    "        print(\"comp_level:%d , epf:%d , time:%.3f\"%(tm[0], tm[1], tm[2]))\n",
    "        time.append(tm)\n",
    "\n",
    "        data_dict = {} #clear buffer before next eps test.\n",
    "        \n",
    "    files = [] # clear files buffer before next eps test."
   ]
  },
  {
   "cell_type": "code",
   "execution_count": 4,
   "metadata": {},
   "outputs": [],
   "source": [
    "# save result as a numpy array at ../comp_test2_result.npy\n",
    "result = np.array(time)\n",
    "np.save(dataset_path+\"test2/comp_test2_result.npy\", result)"
   ]
  },
  {
   "cell_type": "code",
   "execution_count": 5,
   "metadata": {},
   "outputs": [],
   "source": [
    "# load the reults numpy array \n",
    "result = np.load(dataset_path+\"test2/comp_test2_result.npy\")\n",
    "# print(result)"
   ]
  },
  {
   "cell_type": "code",
   "execution_count": 6,
   "metadata": {},
   "outputs": [
    {
     "name": "stdout",
     "output_type": "stream",
     "text": [
      "[[0.00000000e+00 1.00000000e+03 7.96355888e-03]\n",
      " [0.00000000e+00 2.00000000e+03 7.93577524e-03]\n",
      " [0.00000000e+00 5.00000000e+03 7.45118880e-03]\n",
      " [0.00000000e+00 1.00000000e+04 7.43695884e-03]]\n",
      "[[1.00000000e+00 1.00000000e+03 1.07888160e-02]\n",
      " [1.00000000e+00 2.00000000e+03 1.07759056e-02]\n",
      " [1.00000000e+00 5.00000000e+03 9.65277606e-03]\n",
      " [1.00000000e+00 1.00000000e+04 9.56887705e-03]]\n",
      "[[3.00000000e+00 1.00000000e+03 1.08937679e-02]\n",
      " [3.00000000e+00 2.00000000e+03 1.07691984e-02]\n",
      " [3.00000000e+00 5.00000000e+03 9.63114977e-03]\n",
      " [3.00000000e+00 1.00000000e+04 9.52878886e-03]]\n",
      "[[4.00000000e+00 1.00000000e+03 1.47831616e-02]\n",
      " [4.00000000e+00 2.00000000e+03 1.46477681e-02]\n",
      " [4.00000000e+00 5.00000000e+03 1.27400658e-02]\n",
      " [4.00000000e+00 1.00000000e+04 1.26350950e-02]]\n"
     ]
    }
   ],
   "source": [
    "# make result array plottable . \n",
    "comp_level = [0,1,3,4]\n",
    "epf = [1000, 2000, 5000, 10000]\n",
    "\n",
    "comp_0 = result[:4]\n",
    "comp_1 = result[4:8]\n",
    "comp_3 = result[8:12]\n",
    "comp_4 = result[12:]\n",
    "\n",
    "# def sum_four(lst):\n",
    "#     temp = 0\n",
    "#     summ = []\n",
    "#     for i, res in enumerate(lst):\n",
    "#         if (i % 4) == 3:\n",
    "#             temp += res[3]\n",
    "#             summ.append(temp)\n",
    "#             temp = 0\n",
    "#         else:\n",
    "#             temp += res[3]\n",
    "#     return summ\n",
    "\n",
    "# comp_0_tt = sum_four(comp_0) #total time for different epf values comp_0_tt[0] ~ epf = 1000\n",
    "# comp_3_tt = sum_four(comp_3)\n",
    "# comp_4_tt = sum_four(comp_4)\n",
    "\n",
    "print(comp_0)\n",
    "print(comp_1)\n",
    "print(comp_3)\n",
    "print(comp_4)"
   ]
  },
  {
   "cell_type": "code",
   "execution_count": 8,
   "metadata": {},
   "outputs": [
    {
     "data": {
      "image/png": "[encoded data removed]",
      "text/plain": [
       "<matplotlib.figure.Figure at 0x7f6d86c432e8>"
      ]
     },
     "metadata": {},
     "output_type": "display_data"
    }
   ],
   "source": [
    "import matplotlib.pyplot as plt\n",
    "\n",
    "fig_tt = plt.figure(figsize=(7,5))\n",
    "plt.xlabel('Compression Level', size=16)\n",
    "plt.ylabel('Access Time/epf (sec)', size=16)\n",
    "plt.title('Access Time/epf Vs. Compression Level', size=16)\n",
    "plt.plot(comp_level, [comp_0[0][2],comp_1[0][2],comp_3[0][2],comp_4[0][2]], '-o', label='epf = 1000')\n",
    "plt.plot(comp_level, [comp_0[1][2],comp_1[1][2],comp_3[1][2],comp_4[1][2]], '-o', label='epf = 2000')\n",
    "plt.plot(comp_level, [comp_0[2][2],comp_1[2][2],comp_3[2][2],comp_4[2][2]], '-o', label='epf = 5000')\n",
    "plt.plot(comp_level, [comp_0[3][2],comp_1[3][2],comp_3[3][2],comp_4[3][2]], '-o', label='epf = 10000')\n",
    "plt.legend(loc='best')\n",
    "plt.show()\n",
    "fig_tt.savefig('ttvcl.png', bbox_inches='tight')\n",
    "## epf is number of events accessed per file. "
   ]
  },
  {
   "cell_type": "code",
   "execution_count": null,
   "metadata": {},
   "outputs": [],
   "source": [
    "print(comp_3[8:12])"
   ]
  },
  {
   "cell_type": "code",
   "execution_count": 13,
   "metadata": {},
   "outputs": [],
   "source": [
    "# # file access order vs access time for comp_level = 3\n",
    "# order = [1,2,3,4]\n",
    "\n",
    "# fig_order = plt.figure()\n",
    "# plt.xlabel('File Access Order', size=16)\n",
    "# plt.ylabel('Access Time (sec)', size=16)\n",
    "# plt.title('Access Time Vs. File Access Order', size=16)\n",
    "# plt.plot(order, [x[3] for x in comp_3[:4]], '-o', label='epf = 1000')\n",
    "# plt.plot(order, [x[3] for x in comp_3[4:8]], '-o', label='epf = 2000')\n",
    "# plt.plot(order, [x[3] for x in comp_3[8:12]], '-o', label='epf = 5000')\n",
    "# plt.plot(order, [x[3] for x in comp_3[12:16]], '-o', label='epf = 10000')\n",
    "# plt.text(1.0, 20, 'comp_level = 3', size=14)\n",
    "# plt.legend(loc=9, bbox_to_anchor=(1.2, 1))\n",
    "# fig_order.savefig('tvo.png', bbox_inches='tight')\n",
    "# plt.show()\n",
    "# # file access order is the order in which a file is accessed, \n",
    "# # 1st, 2nd, 3rd and 4th\n",
    "# # looks like the 4th file access is just as fast as the other 3."
   ]
  },
  {
   "cell_type": "code",
   "execution_count": 10,
   "metadata": {},
   "outputs": [
    {
     "data": {
      "image/png": "[encoded data removed]",
      "text/plain": [
       "<matplotlib.figure.Figure at 0x7f6d86c89d30>"
      ]
     },
     "metadata": {},
     "output_type": "display_data"
    }
   ],
   "source": [
    "# total access time vs epfs \n",
    "fig_epf = plt.figure()\n",
    "plt.xlabel('epf', size=16)\n",
    "plt.ylabel('Access Time/epf (sec)', size=16)\n",
    "plt.title('Access Time/epf Vs. epf', size=16)\n",
    "plt.plot(epf, [res[2] for res in comp_0], '-o', label='comp_level = 0')\n",
    "plt.plot(epf, [res[2] for res in comp_1], '-o', label='comp_level = 1')\n",
    "plt.plot(epf, [res[2] for res in comp_3], '-o', label='comp_level = 3')\n",
    "plt.plot(epf, [res[2] for res in comp_4], '-o', label='comp_level = 4')\n",
    "plt.legend(loc='best')\n",
    "fig_epf.savefig('ttvepf.png', bbox_inches='tight')\n",
    "plt.show()\n",
    "# for epf = 2000 and 1000 no drastic difference between different comp_level values. "
   ]
  },
  {
   "cell_type": "code",
   "execution_count": null,
   "metadata": {},
   "outputs": [],
   "source": []
  },
  {
   "cell_type": "code",
   "execution_count": null,
   "metadata": {},
   "outputs": [],
   "source": []
  }
 ],
 "metadata": {
  "kernelspec": {
   "display_name": "Python 3",
   "language": "python",
   "name": "python3"
  },
  "language_info": {
   "codemirror_mode": {
    "name": "ipython",
    "version": 3
   },
   "file_extension": ".py",
   "mimetype": "text/x-python",
   "name": "python",
   "nbconvert_exporter": "python",
   "pygments_lexer": "ipython3",
   "version": "3.5.2"
  }
 },
 "nbformat": 4,
 "nbformat_minor": 2
}
