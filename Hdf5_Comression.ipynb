{
 "cells": [
  {
   "cell_type": "code",
   "execution_count": 4,
   "metadata": {},
   "outputs": [
    {
     "name": "stdout",
     "output_type": "stream",
     "text": [
      "Uncompressed\n",
      "Data access time: 18.879 seconds\n",
      "Compressed\n",
      "Data access time: 36.679 seconds\n",
      "Compressed 2\n",
      "Data access time: 37.509 seconds\n",
      "Compressed 3\n",
      "Data access time: 39.361 seconds\n"
     ]
    }
   ],
   "source": [
    "##########A few I/O tests with compressed and uncompressed datasets#################\n",
    "import numpy as np\n",
    "import os \n",
    "import sys\n",
    "import h5py\n",
    "import timeit\n",
    "#### All timeit iterations are set to 100 #####\n",
    "iter_num = 1\n",
    "\n",
    "def timer(test_code, setup, iter_num):\n",
    "    total_access_time = timeit.Timer(stmt=test_code, \n",
    "                                  setup=setup).timeit(number=iter_num)\n",
    "    print(\"Data access time: %.3f seconds\" %(total_access_time/iter_num))\n",
    "\n",
    "def access(file, keys):\n",
    "    for key in file.keys():\n",
    "        points = np.array(file[key]) # access entries and create a numpy array but this is biased by numpy  \n",
    "        keys.append(file[key].name.replace('/','')) #store keys for later use. \n",
    "    \n",
    "    return keys\n",
    "###############################################\n",
    "#### uncompressed dataset reading performance ####\n",
    "\n",
    "dataset_path = \"/data/shared/LCDLargeWindow/\"\n",
    "uncomp_path = os.path.join(dataset_path,\n",
    "                        'fixedangle/ChPiEscan/test1_nocomp.h5')\n",
    "\n",
    "uncomp_file = h5py.File(uncomp_path, 'r') \n",
    "uncomp_file_keys = []\n",
    "\n",
    "setup = \"from __main__ import access, uncomp_file, uncomp_file_keys\"\n",
    "test_code = \"access(uncomp_file, uncomp_file_keys)\"\n",
    "print(\"Uncompressed\")\n",
    "timer(test_code, setup, iter_num)\n",
    "\n",
    "#### compressed dataset reading performance ####\n",
    "comp_path = os.path.join(dataset_path,\n",
    "                        'fixedangle/ChPiEscan/test1.h5')\n",
    "comp_file = h5py.File(comp_path, 'r')\n",
    "comp_file_keys = []\n",
    "\n",
    "setup = \"from __main__ import access, comp_file, comp_file_keys\"\n",
    "test_code = \"access(comp_file, comp_file_keys)\"\n",
    "print(\"Compressed\")\n",
    "timer(test_code, setup, iter_num)\n",
    "###################################\n",
    "comp_path = os.path.join(dataset_path,\n",
    "                        'fixedangle/ChPiEscan/ChPiEscan_1_10.h5')\n",
    "comp_file = h5py.File(comp_path, 'r')\n",
    "comp_file_keys = []\n",
    "\n",
    "setup = \"from __main__ import access, comp_file, comp_file_keys\"\n",
    "test_code = \"access(comp_file, comp_file_keys)\"\n",
    "print(\"Compressed 2\")\n",
    "timer(test_code, setup, iter_num)\n",
    "#####################################\n",
    "comp_path = os.path.join(dataset_path,\n",
    "                        'fixedangle/ChPiEscan/ChPiEscan_4_1.h5')\n",
    "comp_file = h5py.File(comp_path, 'r')\n",
    "comp_file_keys = []\n",
    "\n",
    "setup = \"from __main__ import access, comp_file, comp_file_keys\"\n",
    "test_code = \"access(comp_file, comp_file_keys)\"\n",
    "print(\"Compressed 3\")\n",
    "timer(test_code, setup, iter_num)"
   ]
  },
  {
   "cell_type": "code",
   "execution_count": null,
   "metadata": {},
   "outputs": [],
   "source": []
  }
 ],
 "metadata": {
  "kernelspec": {
   "display_name": "Python 3",
   "language": "python",
   "name": "python3"
  },
  "language_info": {
   "codemirror_mode": {
    "name": "ipython",
    "version": 3
   },
   "file_extension": ".py",
   "mimetype": "text/x-python",
   "name": "python",
   "nbconvert_exporter": "python",
   "pygments_lexer": "ipython3",
   "version": "3.5.2"
  }
 },
 "nbformat": 4,
 "nbformat_minor": 2
}
